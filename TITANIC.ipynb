{
  "nbformat": 4,
  "nbformat_minor": 0,
  "metadata": {
    "colab": {
      "name": "lesson6.ipynb",
      "provenance": []
    },
    "kernelspec": {
      "name": "python3",
      "display_name": "Python 3"
    },
    "accelerator": "GPU"
  },
  "cells": [
    {
      "cell_type": "code",
      "metadata": {
        "id": "A10GCPkzNODD",
        "colab_type": "code",
        "colab": {}
      },
      "source": [
        "import numpy as np\n",
        "import pandas as pd"
      ],
      "execution_count": null,
      "outputs": []
    },
    {
      "cell_type": "code",
      "metadata": {
        "id": "vc0QZnKENbZh",
        "colab_type": "code",
        "colab": {}
      },
      "source": [
        "data = pd.read_csv('TITANIC_full.csv', index_col = 0) # Downloading dataset\n",
        "data"
      ],
      "execution_count": null,
      "outputs": []
    },
    {
      "cell_type": "markdown",
      "metadata": {
        "id": "mjVilcxNOOE2",
        "colab_type": "text"
      },
      "source": [
        "<b>Survived</b> - Выжил (0 = нет, 1 = да)<br>\n",
        "<b>Pclass</b> - Класс билета(1-первый, 2-второй, 3-третий)<br>\n",
        "<b>Name</b> -  Имя пассажира<br>\n",
        "<b>Sex</b> - Пол человека male - муж., female - жен.<br>\n",
        "<b>Age</b> - Возраст в годах <br>\n",
        "<b>Sibsp</b> - количество сестер, братьев, жен, мужей на Титанике<br>\n",
        "<b>Parch</b> - Количество родителей или детей на Титанике<br>\n",
        "<b>Ticket</b> - Билет <br>\n",
        "<b>Fare</b> - Цена Билета<br>\n",
        "<b>Cabin</b> - номер каюты<br>\n",
        "<b>Embarked</b> - Порт посадки (C-Cherbourg, Q-Queenstown, S - Southampton<br> \n"
      ]
    },
    {
      "cell_type": "code",
      "metadata": {
        "id": "X0Cg5II5QkzM",
        "colab_type": "code",
        "colab": {}
      },
      "source": [
        "data.isna().sum() # how many columns of values ​​from NAN"
      ],
      "execution_count": null,
      "outputs": []
    },
    {
      "cell_type": "code",
      "metadata": {
        "id": "GHQh9stvRjvu",
        "colab_type": "code",
        "colab": {}
      },
      "source": [
        "data.Age.fillna(data.Age.mode()[0], inplace = True) # Fulling with mode\n",
        "data.Cabin.fillna(data.Cabin.mode()[0], inplace = True)\n",
        "data.Embarked.fillna(data.Embarked.mode()[0], inplace = True)"
      ],
      "execution_count": null,
      "outputs": []
    },
    {
      "cell_type": "code",
      "metadata": {
        "id": "YAQtMfg4TehB",
        "colab_type": "code",
        "colab": {}
      },
      "source": [
        "target = data['Survived'] # Y \n",
        "data = data.drop('Survived', axis = 1) # X"
      ],
      "execution_count": null,
      "outputs": []
    },
    {
      "cell_type": "code",
      "metadata": {
        "id": "m4SJ3ApvfOc-",
        "colab_type": "code",
        "colab": {}
      },
      "source": [
        "data.iloc[700]"
      ],
      "execution_count": null,
      "outputs": []
    },
    {
      "cell_type": "code",
      "metadata": {
        "id": "4_b9a1QGfKeV",
        "colab_type": "code",
        "colab": {}
      },
      "source": [
        "Me = [1.0, 'Mr. Mikhail Syropyatov', 'male', 25.0, 1, 0, 'PC 17758', 300.0, 'C62 C64', 'C'] # Creating myself"
      ],
      "execution_count": null,
      "outputs": []
    },
    {
      "cell_type": "code",
      "metadata": {
        "id": "SymzlTpqf5nV",
        "colab_type": "code",
        "colab": {
          "base_uri": "https://localhost:8080/",
          "height": 225
        },
        "outputId": "d4cc9341-2a00-477e-b0e9-e232b8361925"
      },
      "source": [
        "data.loc[891] = Me # add myself to the end of the dataset\n",
        "data.tail(5)"
      ],
      "execution_count": null,
      "outputs": [
        {
          "output_type": "execute_result",
          "data": {
            "text/html": [
              "<div>\n",
              "<style scoped>\n",
              "    .dataframe tbody tr th:only-of-type {\n",
              "        vertical-align: middle;\n",
              "    }\n",
              "\n",
              "    .dataframe tbody tr th {\n",
              "        vertical-align: top;\n",
              "    }\n",
              "\n",
              "    .dataframe thead th {\n",
              "        text-align: right;\n",
              "    }\n",
              "</style>\n",
              "<table border=\"1\" class=\"dataframe\">\n",
              "  <thead>\n",
              "    <tr style=\"text-align: right;\">\n",
              "      <th></th>\n",
              "      <th>Pclass</th>\n",
              "      <th>Name</th>\n",
              "      <th>Sex</th>\n",
              "      <th>Age</th>\n",
              "      <th>SibSp</th>\n",
              "      <th>Parch</th>\n",
              "      <th>Ticket</th>\n",
              "      <th>Fare</th>\n",
              "      <th>Cabin</th>\n",
              "      <th>Embarked</th>\n",
              "    </tr>\n",
              "    <tr>\n",
              "      <th>PassengerId</th>\n",
              "      <th></th>\n",
              "      <th></th>\n",
              "      <th></th>\n",
              "      <th></th>\n",
              "      <th></th>\n",
              "      <th></th>\n",
              "      <th></th>\n",
              "      <th></th>\n",
              "      <th></th>\n",
              "      <th></th>\n",
              "    </tr>\n",
              "  </thead>\n",
              "  <tbody>\n",
              "    <tr>\n",
              "      <th>887</th>\n",
              "      <td>2.0</td>\n",
              "      <td>Montvila, Rev. Juozas</td>\n",
              "      <td>male</td>\n",
              "      <td>27.0</td>\n",
              "      <td>0</td>\n",
              "      <td>0</td>\n",
              "      <td>211536</td>\n",
              "      <td>13.00</td>\n",
              "      <td>B96 B98</td>\n",
              "      <td>S</td>\n",
              "    </tr>\n",
              "    <tr>\n",
              "      <th>888</th>\n",
              "      <td>1.0</td>\n",
              "      <td>Graham, Miss. Margaret Edith</td>\n",
              "      <td>female</td>\n",
              "      <td>19.0</td>\n",
              "      <td>0</td>\n",
              "      <td>0</td>\n",
              "      <td>112053</td>\n",
              "      <td>30.00</td>\n",
              "      <td>B42</td>\n",
              "      <td>S</td>\n",
              "    </tr>\n",
              "    <tr>\n",
              "      <th>889</th>\n",
              "      <td>3.0</td>\n",
              "      <td>Johnston, Miss. Catherine Helen \"Carrie\"</td>\n",
              "      <td>female</td>\n",
              "      <td>24.0</td>\n",
              "      <td>1</td>\n",
              "      <td>2</td>\n",
              "      <td>W./C. 6607</td>\n",
              "      <td>23.45</td>\n",
              "      <td>B96 B98</td>\n",
              "      <td>S</td>\n",
              "    </tr>\n",
              "    <tr>\n",
              "      <th>890</th>\n",
              "      <td>1.0</td>\n",
              "      <td>Behr, Mr. Karl Howell</td>\n",
              "      <td>male</td>\n",
              "      <td>26.0</td>\n",
              "      <td>0</td>\n",
              "      <td>0</td>\n",
              "      <td>111369</td>\n",
              "      <td>30.00</td>\n",
              "      <td>C148</td>\n",
              "      <td>C</td>\n",
              "    </tr>\n",
              "    <tr>\n",
              "      <th>891</th>\n",
              "      <td>1.0</td>\n",
              "      <td>Mr. Mikhail Syropyatov</td>\n",
              "      <td>male</td>\n",
              "      <td>25.0</td>\n",
              "      <td>1</td>\n",
              "      <td>0</td>\n",
              "      <td>PC 17758</td>\n",
              "      <td>300.00</td>\n",
              "      <td>C62 C64</td>\n",
              "      <td>C</td>\n",
              "    </tr>\n",
              "  </tbody>\n",
              "</table>\n",
              "</div>"
            ],
            "text/plain": [
              "             Pclass                                      Name  ...    Cabin  Embarked\n",
              "PassengerId                                                    ...                   \n",
              "887             2.0                     Montvila, Rev. Juozas  ...  B96 B98         S\n",
              "888             1.0              Graham, Miss. Margaret Edith  ...      B42         S\n",
              "889             3.0  Johnston, Miss. Catherine Helen \"Carrie\"  ...  B96 B98         S\n",
              "890             1.0                     Behr, Mr. Karl Howell  ...     C148         C\n",
              "891             1.0                    Mr. Mikhail Syropyatov  ...  C62 C64         C\n",
              "\n",
              "[5 rows x 10 columns]"
            ]
          },
          "metadata": {
            "tags": []
          },
          "execution_count": 73
        }
      ]
    },
    {
      "cell_type": "code",
      "metadata": {
        "id": "Y988eKyOT_03",
        "colab_type": "code",
        "colab": {}
      },
      "source": [
        "from sklearn.preprocessing import LabelEncoder #Encoder for str\n",
        "\n",
        "le = LabelEncoder() # Initialization of Encoder\n",
        "\n",
        "data['Sex'] = le.fit_transform(data['Sex']) # Encode of of columns where we can find str\n",
        "data['Name'] = le.fit_transform(data['Name'])\n",
        "data['Ticket'] = le.fit_transform(data['Ticket'])\n",
        "data['Cabin'] = le.fit_transform(data['Cabin'])\n",
        "data['Embarked'] = le.fit_transform(data['Embarked'])"
      ],
      "execution_count": null,
      "outputs": []
    },
    {
      "cell_type": "code",
      "metadata": {
        "id": "qByMt3YVWd8z",
        "colab_type": "code",
        "colab": {}
      },
      "source": [
        "from sklearn.model_selection import train_test_split #import split of data set method\n",
        "\n",
        "x_train, x_test, y_train, y_test = train_test_split(data, target, test_size = 0.2, random_state = 0)\n",
        "# spliting train/test 80/20 "
      ],
      "execution_count": null,
      "outputs": []
    },
    {
      "cell_type": "code",
      "metadata": {
        "id": "0-gCWO3PSZPZ",
        "colab_type": "code",
        "colab": {}
      },
      "source": [
        "params ={ # for GridSerachCV\n",
        "    'ccp_alpha' : 0.00001,\n",
        "    'max_depth' : 1000,\n",
        "    'criterion' : 'gini',\n",
        "    'min_samples_split' : [1, 2]\n",
        "} "
      ],
      "execution_count": null,
      "outputs": []
    },
    {
      "cell_type": "code",
      "metadata": {
        "id": "Xe1NPA-zYVsK",
        "colab_type": "code",
        "colab": {}
      },
      "source": [
        "from sklearn.ensemble import RandomForestClassifier #importing model\n",
        "#from sklearn.model_selection import GridSearchCV\n",
        "\n",
        "\n",
        "RFC = RandomForestClassifier() #Init model\n",
        "\n",
        "#GS = GridSearchCV(RFC, params, cv=5) можно использовать GridSearch для поиска лучших параметров,\n",
        "# как он работает смотрите видеоурок."
      ],
      "execution_count": null,
      "outputs": []
    },
    {
      "cell_type": "code",
      "metadata": {
        "id": "PEWv0YvOZPBl",
        "colab_type": "code",
        "colab": {}
      },
      "source": [
        "RFC.fit(x_train, y_train) # training our model\n",
        "#GS.fit(x_train, y_train)"
      ],
      "execution_count": null,
      "outputs": []
    },
    {
      "cell_type": "code",
      "metadata": {
        "id": "V-IDhiuGUDJ5",
        "colab_type": "code",
        "colab": {}
      },
      "source": [
        "#GS.best_params_ #best params"
      ],
      "execution_count": null,
      "outputs": []
    },
    {
      "cell_type": "code",
      "metadata": {
        "id": "bB0cDtvrUQjZ",
        "colab_type": "code",
        "colab": {
          "base_uri": "https://localhost:8080/",
          "height": 33
        },
        "outputId": "227cc201-0424-40a2-bd54-158a684073e6"
      },
      "source": [
        "#GS.best_score_ #best accuracy"
      ],
      "execution_count": null,
      "outputs": [
        {
          "output_type": "execute_result",
          "data": {
            "text/plain": [
              "0.8342164877376146"
            ]
          },
          "metadata": {
            "tags": []
          },
          "execution_count": 18
        }
      ]
    },
    {
      "cell_type": "code",
      "metadata": {
        "id": "wj_xHLgDZqYZ",
        "colab_type": "code",
        "colab": {
          "base_uri": "https://localhost:8080/",
          "height": 50
        },
        "outputId": "30874e36-0f8e-4de4-dbf2-1dd6f99e36d8"
      },
      "source": [
        "from sklearn.metrics import accuracy_score #method for \n",
        "\n",
        "pred_RFC_train = RFC.predict(x_train) #prediction for train data\n",
        "pred_RFC_test = RFC.predict(x_test) #prediction for test data\n",
        "\n",
        "print('Правильность на обучающем наборе:', np.round(accuracy_score(y_train, pred_RFC_train), 2)) #Printing our acc score\n",
        "print('Правильность на тестовом наборе:', np.round(accuracy_score(y_test, pred_RFC_test), 2)) # "
      ],
      "execution_count": null,
      "outputs": [
        {
          "output_type": "stream",
          "text": [
            "Правильность на обучающем наборе: 1.0\n",
            "Правильность на тестовом наборе: 0.87\n"
          ],
          "name": "stdout"
        }
      ]
    },
    {
      "cell_type": "code",
      "metadata": {
        "id": "D6iJfyUQixs8",
        "colab_type": "code",
        "colab": {}
      },
      "source": [
        "{el:0  for el in data} #new passanger"
      ],
      "execution_count": null,
      "outputs": []
    },
    {
      "cell_type": "code",
      "metadata": {
        "id": "EQ6g54Z_iIRR",
        "colab_type": "code",
        "colab": {}
      },
      "source": [
        "Me = {'Age': 25.0, # looking mine encoded  params from last position of data\n",
        " 'Cabin': 73.0,\n",
        " 'Embarked': 0.0,\n",
        " 'Fare': 300.0,\n",
        " 'Name': 563.0,\n",
        " 'Parch': 0.0,\n",
        " 'Pclass': 1.0,\n",
        " 'Sex': 1.0,\n",
        " 'SibSp': 1.0,\n",
        " 'Ticket': 610.0}"
      ],
      "execution_count": null,
      "outputs": []
    },
    {
      "cell_type": "code",
      "metadata": {
        "id": "fbagQQZHig-H",
        "colab_type": "code",
        "colab": {}
      },
      "source": [
        "Me = pd.DataFrame(data = [Me]) # creating DataFrame from dict"
      ],
      "execution_count": null,
      "outputs": []
    },
    {
      "cell_type": "code",
      "metadata": {
        "id": "wCc2Zr3uiqjR",
        "colab_type": "code",
        "colab": {
          "base_uri": "https://localhost:8080/",
          "height": 34
        },
        "outputId": "17a73795-0af6-49cc-a337-e2d66270dfd7"
      },
      "source": [
        "prediction = RFC.predict(Me) # Prediction of surviving me, where 0 - not survived, 1 - survived\n",
        "print(prediction)"
      ],
      "execution_count": null,
      "outputs": [
        {
          "output_type": "stream",
          "text": [
            "[0]\n"
          ],
          "name": "stdout"
        }
      ]
    },
    {
      "cell_type": "markdown",
      "metadata": {
        "id": "CJAgKZRQuYGs",
        "colab_type": "text"
      },
      "source": [
        "<b>Ниже представлены другие модели</b>\n",
        "<br>\n",
        "и как они себя ведут<br>\n",
        "<b>Below are other models</b>"
      ]
    },
    {
      "cell_type": "code",
      "metadata": {
        "id": "S7tcKxTZhhHY",
        "colab_type": "code",
        "colab": {}
      },
      "source": [
        "data.iloc[890] #"
      ],
      "execution_count": null,
      "outputs": []
    },
    {
      "cell_type": "code",
      "metadata": {
        "id": "nLk0oAbsjR4R",
        "colab_type": "code",
        "colab": {}
      },
      "source": [
        "from sklearn.tree import  DecisionTreeClassifier\n",
        "\n",
        "DTC = DecisionTreeClassifier()"
      ],
      "execution_count": null,
      "outputs": []
    },
    {
      "cell_type": "code",
      "metadata": {
        "id": "M5uqvQ8sjgxv",
        "colab_type": "code",
        "colab": {}
      },
      "source": [
        "DTC.fit(x_train, y_train)"
      ],
      "execution_count": null,
      "outputs": []
    },
    {
      "cell_type": "code",
      "metadata": {
        "id": "w-jI7M37jzM0",
        "colab_type": "code",
        "colab": {
          "base_uri": "https://localhost:8080/",
          "height": 50
        },
        "outputId": "d5b986d6-90ca-4734-8b8f-7d4296dc6305"
      },
      "source": [
        "pred_DTC_train = DTC.predict(x_train)\n",
        "pred_DTC_test = DTC.predict(x_test)\n",
        "\n",
        "print('Правильность на обучающем наборе:', np.round(accuracy_score(y_train, pred_DTC_train), 2))\n",
        "print('Правильность на тестовом наборе:', np.round(accuracy_score(y_test, pred_DTC_test), 2))"
      ],
      "execution_count": null,
      "outputs": [
        {
          "output_type": "stream",
          "text": [
            "Правильность на обучающем наборе: 1.0\n",
            "Правильность на тестовом наборе: 0.79\n"
          ],
          "name": "stdout"
        }
      ]
    },
    {
      "cell_type": "code",
      "metadata": {
        "id": "flLSNYWJkOmO",
        "colab_type": "code",
        "colab": {}
      },
      "source": [
        "from sklearn.neighbors import KNeighborsClassifier\n",
        "\n",
        "KNC = KNeighborsClassifier(leaf_size= 100, n_neighbors=2)"
      ],
      "execution_count": null,
      "outputs": []
    },
    {
      "cell_type": "code",
      "metadata": {
        "id": "ysK_I00Skc54",
        "colab_type": "code",
        "colab": {
          "base_uri": "https://localhost:8080/",
          "height": 67
        },
        "outputId": "153f3d7f-f540-4b57-902b-2bc6c93d5837"
      },
      "source": [
        "KNC.fit(x_train, y_train)"
      ],
      "execution_count": null,
      "outputs": [
        {
          "output_type": "execute_result",
          "data": {
            "text/plain": [
              "KNeighborsClassifier(algorithm='auto', leaf_size=100, metric='minkowski',\n",
              "                     metric_params=None, n_jobs=None, n_neighbors=2, p=2,\n",
              "                     weights='uniform')"
            ]
          },
          "metadata": {
            "tags": []
          },
          "execution_count": 110
        }
      ]
    },
    {
      "cell_type": "code",
      "metadata": {
        "id": "ZwU-9T3WkkY5",
        "colab_type": "code",
        "colab": {
          "base_uri": "https://localhost:8080/",
          "height": 50
        },
        "outputId": "f46f27dc-14fb-4974-d31e-3a763971b1ff"
      },
      "source": [
        "pred_KNC_train = KNC.predict(x_train)\n",
        "pred_KNC_test = KNC.predict(x_test)\n",
        "\n",
        "print('Правильность на обучающем наборе:', np.round(accuracy_score(y_train, pred_KNC_train), 2))\n",
        "print('Правильность на тестовом наборе:', np.round(accuracy_score(y_test, pred_KNC_test), 2))"
      ],
      "execution_count": null,
      "outputs": [
        {
          "output_type": "stream",
          "text": [
            "Правильность на обучающем наборе: 0.84\n",
            "Правильность на тестовом наборе: 0.65\n"
          ],
          "name": "stdout"
        }
      ]
    },
    {
      "cell_type": "code",
      "metadata": {
        "id": "br-vsMtdlwg8",
        "colab_type": "code",
        "colab": {}
      },
      "source": [
        "from sklearn.linear_model import SGDClassifier\n",
        "\n",
        "SGD = SGDClassifier(alpha=0.001,max_iter=15000)"
      ],
      "execution_count": null,
      "outputs": []
    },
    {
      "cell_type": "code",
      "metadata": {
        "id": "I5sGaue5mBUT",
        "colab_type": "code",
        "colab": {
          "base_uri": "https://localhost:8080/",
          "height": 118
        },
        "outputId": "d46d4882-d590-40d3-d904-a357451d4657"
      },
      "source": [
        "SGD.fit(x_train, y_train)"
      ],
      "execution_count": null,
      "outputs": [
        {
          "output_type": "execute_result",
          "data": {
            "text/plain": [
              "SGDClassifier(alpha=0.001, average=False, class_weight=None,\n",
              "              early_stopping=False, epsilon=0.1, eta0=0.0, fit_intercept=True,\n",
              "              l1_ratio=0.15, learning_rate='optimal', loss='hinge',\n",
              "              max_iter=15000, n_iter_no_change=5, n_jobs=None, penalty='l2',\n",
              "              power_t=0.5, random_state=None, shuffle=True, tol=0.001,\n",
              "              validation_fraction=0.1, verbose=0, warm_start=False)"
            ]
          },
          "metadata": {
            "tags": []
          },
          "execution_count": 160
        }
      ]
    },
    {
      "cell_type": "code",
      "metadata": {
        "id": "GoiY-VoCmI1b",
        "colab_type": "code",
        "colab": {
          "base_uri": "https://localhost:8080/",
          "height": 50
        },
        "outputId": "66f05028-37c2-4805-e481-9382d620ccc7"
      },
      "source": [
        "pred_SGD_train = SGD.predict(x_train)\n",
        "pred_SGD_test = SGD.predict(x_test)\n",
        "\n",
        "print('Правильность на обучающем наборе:', np.round(accuracy_score(y_train, pred_SGD_train), 2))\n",
        "print('Правильность на тестовом наборе:', np.round(accuracy_score(y_test, pred_SGD_test), 2))"
      ],
      "execution_count": null,
      "outputs": [
        {
          "output_type": "stream",
          "text": [
            "Правильность на обучающем наборе: 0.66\n",
            "Правильность на тестовом наборе: 0.66\n"
          ],
          "name": "stdout"
        }
      ]
    }
  ]
}